{
 "cells": [
  {
   "cell_type": "markdown",
   "id": "7209cd01",
   "metadata": {},
   "source": [
    "# Лабораторная работа 5\n",
    "Градиентный бустинг с Catboost\n",
    "\n",
    "Выполнил: 6133-010402D, Богданова Юлия Николаевна"
   ]
  },
  {
   "cell_type": "code",
   "execution_count": 1,
   "id": "430ec62e",
   "metadata": {},
   "outputs": [],
   "source": [
    "import numpy as np\n",
    "import pandas as pd\n",
    "import seaborn as sns\n",
    "import matplotlib.pyplot as plt"
   ]
  },
  {
   "cell_type": "code",
   "execution_count": 2,
   "id": "38080fd1",
   "metadata": {},
   "outputs": [
    {
     "name": "stdout",
     "output_type": "stream",
     "text": [
      "1.0.6\n"
     ]
    }
   ],
   "source": [
    "import catboost\n",
    "print(catboost.__version__)"
   ]
  },
  {
   "cell_type": "markdown",
   "id": "3acf4692",
   "metadata": {},
   "source": [
    "0 Подобрать набор данных для классификации (количество классов не имеет значения) и регрессии. Важно наличие числовых и категориальных признаков в данных. Опишите данные, что обозначает каждый столбец, какого типа (категориальный, вещественный, целочисленный, бинарный) данный столбец, при необходимости для категориальных в том числе бинарных признаков привести расшифровку их значений. Можно работать на тех же данных, что и в предыдущей Л.Р.: в этом случае сравнить с результатами лучшего классификатора из предыдущей работы."
   ]
  },
  {
   "cell_type": "markdown",
   "id": "d57dd5fd",
   "metadata": {},
   "source": [
    "## Dataset Description"
   ]
  },
  {
   "cell_type": "markdown",
   "id": "7a0ee447",
   "metadata": {},
   "source": [
    "Source: https://www.kaggle.com/datasets/abisheksudarshan/customer-segmentation  \n",
    "Type: Multiclass  \n",
    "\n",
    "Customer segmentation is the practice of dividing a customer base into groups of individuals that are similar in specific ways relevant to marketing, such as age, gender, interests and spending habits.  \n",
    "\n",
    "|#|Attribute name|Attribute Information| Usage in model|\n",
    "| :-: | :- | -: |:-|\n",
    "|1|ID| Unique id (category)| not used |\n",
    "|2|Gender|Gender (Binary) | used as 0/1|\n",
    "|3|Ever_Married| Marital status of the customer (Binary)| used as 0/1 |\n",
    "|4|Age| Customer Age (numerical)| used as it is |\n",
    "|5|Graduated| Is the customer a graduate (Binary)|used as 0/1|\n",
    "|6|Profession| Profession (Categorical)|used as dummies|\n",
    "|7|Work_Experience| Work Experience in years (Numerical)|used as it is|\n",
    "|8|Spending_Score| Spending score (Category)| used as it is |\n",
    "|9|Family_Size| Amount of members in family (Numerical)|used as it is|  \n",
    "|10|Var_1\t| Anonymised Category for the customer (category)|used as dummies|  \n",
    "|11| __Target__: Segmentation| 4 segments (A, B, C, D )|used as it is|"
   ]
  },
  {
   "cell_type": "code",
   "execution_count": 131,
   "id": "411c2296",
   "metadata": {},
   "outputs": [],
   "source": [
    "data_df = pd.read_csv(\"./datasets/customer_multi_train.csv\")"
   ]
  },
  {
   "cell_type": "code",
   "execution_count": 132,
   "id": "58ad1fdf",
   "metadata": {},
   "outputs": [
    {
     "data": {
      "text/html": [
       "<div>\n",
       "<style scoped>\n",
       "    .dataframe tbody tr th:only-of-type {\n",
       "        vertical-align: middle;\n",
       "    }\n",
       "\n",
       "    .dataframe tbody tr th {\n",
       "        vertical-align: top;\n",
       "    }\n",
       "\n",
       "    .dataframe thead th {\n",
       "        text-align: right;\n",
       "    }\n",
       "</style>\n",
       "<table border=\"1\" class=\"dataframe\">\n",
       "  <thead>\n",
       "    <tr style=\"text-align: right;\">\n",
       "      <th></th>\n",
       "      <th>ID</th>\n",
       "      <th>Gender</th>\n",
       "      <th>Ever_Married</th>\n",
       "      <th>Age</th>\n",
       "      <th>Graduated</th>\n",
       "      <th>Profession</th>\n",
       "      <th>Work_Experience</th>\n",
       "      <th>Spending_Score</th>\n",
       "      <th>Family_Size</th>\n",
       "      <th>Var_1</th>\n",
       "      <th>Segmentation</th>\n",
       "    </tr>\n",
       "  </thead>\n",
       "  <tbody>\n",
       "    <tr>\n",
       "      <th>0</th>\n",
       "      <td>462809</td>\n",
       "      <td>Male</td>\n",
       "      <td>No</td>\n",
       "      <td>22</td>\n",
       "      <td>No</td>\n",
       "      <td>Healthcare</td>\n",
       "      <td>1.0</td>\n",
       "      <td>Low</td>\n",
       "      <td>4.0</td>\n",
       "      <td>Cat_4</td>\n",
       "      <td>D</td>\n",
       "    </tr>\n",
       "    <tr>\n",
       "      <th>1</th>\n",
       "      <td>462643</td>\n",
       "      <td>Female</td>\n",
       "      <td>Yes</td>\n",
       "      <td>38</td>\n",
       "      <td>Yes</td>\n",
       "      <td>Engineer</td>\n",
       "      <td>NaN</td>\n",
       "      <td>Average</td>\n",
       "      <td>3.0</td>\n",
       "      <td>Cat_4</td>\n",
       "      <td>A</td>\n",
       "    </tr>\n",
       "    <tr>\n",
       "      <th>2</th>\n",
       "      <td>466315</td>\n",
       "      <td>Female</td>\n",
       "      <td>Yes</td>\n",
       "      <td>67</td>\n",
       "      <td>Yes</td>\n",
       "      <td>Engineer</td>\n",
       "      <td>1.0</td>\n",
       "      <td>Low</td>\n",
       "      <td>1.0</td>\n",
       "      <td>Cat_6</td>\n",
       "      <td>B</td>\n",
       "    </tr>\n",
       "    <tr>\n",
       "      <th>3</th>\n",
       "      <td>461735</td>\n",
       "      <td>Male</td>\n",
       "      <td>Yes</td>\n",
       "      <td>67</td>\n",
       "      <td>Yes</td>\n",
       "      <td>Lawyer</td>\n",
       "      <td>0.0</td>\n",
       "      <td>High</td>\n",
       "      <td>2.0</td>\n",
       "      <td>Cat_6</td>\n",
       "      <td>B</td>\n",
       "    </tr>\n",
       "    <tr>\n",
       "      <th>4</th>\n",
       "      <td>462669</td>\n",
       "      <td>Female</td>\n",
       "      <td>Yes</td>\n",
       "      <td>40</td>\n",
       "      <td>Yes</td>\n",
       "      <td>Entertainment</td>\n",
       "      <td>NaN</td>\n",
       "      <td>High</td>\n",
       "      <td>6.0</td>\n",
       "      <td>Cat_6</td>\n",
       "      <td>A</td>\n",
       "    </tr>\n",
       "  </tbody>\n",
       "</table>\n",
       "</div>"
      ],
      "text/plain": [
       "       ID  Gender Ever_Married  Age Graduated     Profession  Work_Experience  \\\n",
       "0  462809    Male           No   22        No     Healthcare              1.0   \n",
       "1  462643  Female          Yes   38       Yes       Engineer              NaN   \n",
       "2  466315  Female          Yes   67       Yes       Engineer              1.0   \n",
       "3  461735    Male          Yes   67       Yes         Lawyer              0.0   \n",
       "4  462669  Female          Yes   40       Yes  Entertainment              NaN   \n",
       "\n",
       "  Spending_Score  Family_Size  Var_1 Segmentation  \n",
       "0            Low          4.0  Cat_4            D  \n",
       "1        Average          3.0  Cat_4            A  \n",
       "2            Low          1.0  Cat_6            B  \n",
       "3           High          2.0  Cat_6            B  \n",
       "4           High          6.0  Cat_6            A  "
      ]
     },
     "execution_count": 132,
     "metadata": {},
     "output_type": "execute_result"
    }
   ],
   "source": [
    "data_df.head()"
   ]
  },
  {
   "cell_type": "code",
   "execution_count": 5,
   "id": "79180a1b",
   "metadata": {},
   "outputs": [
    {
     "data": {
      "text/plain": [
       "<AxesSubplot:>"
      ]
     },
     "execution_count": 5,
     "metadata": {},
     "output_type": "execute_result"
    },
    {
     "data": {
      "image/png": "[encoded data removed]",
      "text/plain": [
       "<Figure size 432x288 with 2 Axes>"
      ]
     },
     "metadata": {
      "needs_background": "light"
     },
     "output_type": "display_data"
    }
   ],
   "source": [
    "# There are some nullvalues\n",
    "sns.heatmap(data_df.isnull())"
   ]
  },
  {
   "cell_type": "code",
   "execution_count": 133,
   "id": "defa46a9",
   "metadata": {},
   "outputs": [],
   "source": [
    "data_df.dropna(axis=0, subset=['Gender','Ever_Married', 'Age', 'Graduated', 'Profession',\n",
    "       'Work_Experience', 'Spending_Score', 'Family_Size', 'Var_1'], inplace=True)"
   ]
  },
  {
   "cell_type": "code",
   "execution_count": 134,
   "id": "2c1d61a9",
   "metadata": {},
   "outputs": [
    {
     "name": "stdout",
     "output_type": "stream",
     "text": [
      "Dataset size =  6665\n"
     ]
    },
    {
     "data": {
      "text/plain": [
       "<AxesSubplot:>"
      ]
     },
     "execution_count": 134,
     "metadata": {},
     "output_type": "execute_result"
    },
    {
     "data": {
      "image/png": "[encoded data removed]",
      "text/plain": [
       "<Figure size 432x288 with 2 Axes>"
      ]
     },
     "metadata": {
      "needs_background": "light"
     },
     "output_type": "display_data"
    }
   ],
   "source": [
    "print('Dataset size = ', len(data_df))\n",
    "sns.heatmap(data_df.isnull())"
   ]
  },
  {
   "cell_type": "code",
   "execution_count": 8,
   "id": "f18fbe71",
   "metadata": {},
   "outputs": [
    {
     "name": "stdout",
     "output_type": "stream",
     "text": [
      "D    1757\n",
      "C    1720\n",
      "A    1616\n",
      "B    1572\n",
      "Name: Segmentation, dtype: int64\n"
     ]
    },
    {
     "data": {
      "text/plain": [
       "[Text(0.5, 1.0, 'Countplot of target')]"
      ]
     },
     "execution_count": 8,
     "metadata": {},
     "output_type": "execute_result"
    },
    {
     "data": {
      "image/png": "[encoded data removed]",
      "text/plain": [
       "<Figure size 432x288 with 1 Axes>"
      ]
     },
     "metadata": {
      "needs_background": "light"
     },
     "output_type": "display_data"
    }
   ],
   "source": [
    "# classes are well balanced\n",
    "print(data_df['Segmentation'].value_counts())\n",
    "sns.countplot(x = data_df['Segmentation'], data = data_df, palette='Set1').set(title='Countplot of target')"
   ]
  },
  {
   "cell_type": "code",
   "execution_count": 135,
   "id": "8e592322",
   "metadata": {},
   "outputs": [],
   "source": [
    "del data_df['ID']"
   ]
  },
  {
   "cell_type": "code",
   "execution_count": 10,
   "id": "c765c93b",
   "metadata": {
    "scrolled": true
   },
   "outputs": [
    {
     "data": {
      "text/html": [
       "<div>\n",
       "<style scoped>\n",
       "    .dataframe tbody tr th:only-of-type {\n",
       "        vertical-align: middle;\n",
       "    }\n",
       "\n",
       "    .dataframe tbody tr th {\n",
       "        vertical-align: top;\n",
       "    }\n",
       "\n",
       "    .dataframe thead th {\n",
       "        text-align: right;\n",
       "    }\n",
       "</style>\n",
       "<table border=\"1\" class=\"dataframe\">\n",
       "  <thead>\n",
       "    <tr style=\"text-align: right;\">\n",
       "      <th></th>\n",
       "      <th>Gender</th>\n",
       "      <th>Ever_Married</th>\n",
       "      <th>Age</th>\n",
       "      <th>Graduated</th>\n",
       "      <th>Profession</th>\n",
       "      <th>Work_Experience</th>\n",
       "      <th>Spending_Score</th>\n",
       "      <th>Family_Size</th>\n",
       "      <th>Var_1</th>\n",
       "      <th>Segmentation</th>\n",
       "    </tr>\n",
       "  </thead>\n",
       "  <tbody>\n",
       "    <tr>\n",
       "      <th>0</th>\n",
       "      <td>Male</td>\n",
       "      <td>No</td>\n",
       "      <td>22</td>\n",
       "      <td>No</td>\n",
       "      <td>Healthcare</td>\n",
       "      <td>1.0</td>\n",
       "      <td>Low</td>\n",
       "      <td>4.0</td>\n",
       "      <td>Cat_4</td>\n",
       "      <td>D</td>\n",
       "    </tr>\n",
       "    <tr>\n",
       "      <th>2</th>\n",
       "      <td>Female</td>\n",
       "      <td>Yes</td>\n",
       "      <td>67</td>\n",
       "      <td>Yes</td>\n",
       "      <td>Engineer</td>\n",
       "      <td>1.0</td>\n",
       "      <td>Low</td>\n",
       "      <td>1.0</td>\n",
       "      <td>Cat_6</td>\n",
       "      <td>B</td>\n",
       "    </tr>\n",
       "  </tbody>\n",
       "</table>\n",
       "</div>"
      ],
      "text/plain": [
       "   Gender Ever_Married  Age Graduated  Profession  Work_Experience  \\\n",
       "0    Male           No   22        No  Healthcare              1.0   \n",
       "2  Female          Yes   67       Yes    Engineer              1.0   \n",
       "\n",
       "  Spending_Score  Family_Size  Var_1 Segmentation  \n",
       "0            Low          4.0  Cat_4            D  \n",
       "2            Low          1.0  Cat_6            B  "
      ]
     },
     "execution_count": 10,
     "metadata": {},
     "output_type": "execute_result"
    }
   ],
   "source": [
    "data_df[:2]"
   ]
  },
  {
   "cell_type": "markdown",
   "id": "10dfc256",
   "metadata": {},
   "source": [
    "## 1 Применить классификатор CatBoostClassifier к вашему набору данных. \n",
    "Обратите внимание, что catboost умеет работать с категориальными признаками (параметр cat_features - список индексов категориальных признаков), поэтому использование pd.factorize / pd.get_dummies здесь лишнее.\n",
    "\n",
    "- Вывести итерацию с наилучшим значением AUC (для бинарной классификации) или наилучшим значением Logloss.\n",
    "- Вывести значения метрик качества классификации на тестовых данных (accuracy и precision / recall / AUC, если применимо).\n",
    "- В случае бинарной классификации на основе CatBoostClassifier построить кривые PRC и ROC. Вычислить значения PRC-AUC и ROC-AUC."
   ]
  },
  {
   "cell_type": "code",
   "execution_count": 13,
   "id": "c9e09c02",
   "metadata": {},
   "outputs": [],
   "source": [
    "from sklearn.model_selection import train_test_split"
   ]
  },
  {
   "cell_type": "code",
   "execution_count": 136,
   "id": "55a15c2f",
   "metadata": {},
   "outputs": [],
   "source": [
    "# Split Targets and Features\n",
    "y = data_df['Segmentation']\n",
    "X = data_df.drop(['Segmentation'], axis=1)"
   ]
  },
  {
   "cell_type": "code",
   "execution_count": 137,
   "id": "1685001a",
   "metadata": {},
   "outputs": [
    {
     "data": {
      "text/plain": [
       "[0, 1, 3, 4, 6, 8]"
      ]
     },
     "execution_count": 137,
     "metadata": {},
     "output_type": "execute_result"
    }
   ],
   "source": [
    "# Tell catboost wich features are categorical\n",
    "cat_features = list(range(0, X.shape[1]))\n",
    "# remove numerical\n",
    "cat_features.remove(data_df.columns.get_loc(\"Age\"))\n",
    "cat_features.remove(data_df.columns.get_loc(\"Work_Experience\"))\n",
    "cat_features.remove(data_df.columns.get_loc(\"Family_Size\"))\n",
    "cat_features"
   ]
  },
  {
   "cell_type": "code",
   "execution_count": 20,
   "id": "b1a01407",
   "metadata": {},
   "outputs": [
    {
     "name": "stdout",
     "output_type": "stream",
     "text": [
      "(6665, 9)\n",
      "['Gender', 'Ever_Married', 'Age', 'Graduated', 'Profession', 'Work_Experience', 'Spending_Score', 'Family_Size', 'Var_1']\n"
     ]
    }
   ],
   "source": [
    "pool1 = catboost.Pool(data=X, label=y, cat_features=cat_features)\n",
    "print(pool1.shape)\n",
    "print(pool1.get_feature_names())"
   ]
  },
  {
   "cell_type": "code",
   "execution_count": 21,
   "id": "3b7cdfaa",
   "metadata": {},
   "outputs": [],
   "source": [
    "X_train, X_test, y_train, y_test = train_test_split(\n",
    "    X, y, test_size=0.25, random_state=0)"
   ]
  },
  {
   "cell_type": "code",
   "execution_count": 47,
   "id": "7f33f9af",
   "metadata": {},
   "outputs": [
    {
     "data": {
      "application/vnd.jupyter.widget-view+json": {
       "model_id": "c3a0ff4929854dab9f48bae93f6801df",
       "version_major": 2,
       "version_minor": 0
      },
      "text/plain": [
       "MetricVisualizer(layout=Layout(align_self='stretch', height='500px'))"
      ]
     },
     "metadata": {},
     "output_type": "display_data"
    },
    {
     "name": "stdout",
     "output_type": "stream",
     "text": [
      "Training on fold [0/5]\n",
      "\n",
      "bestTest = 1.036854897\n",
      "bestIteration = 24\n",
      "\n",
      "Training on fold [1/5]\n",
      "\n",
      "bestTest = 1.047731544\n",
      "bestIteration = 30\n",
      "\n",
      "Training on fold [2/5]\n",
      "\n",
      "bestTest = 1.071269223\n",
      "bestIteration = 13\n",
      "\n",
      "Training on fold [3/5]\n",
      "\n",
      "bestTest = 1.029502656\n",
      "bestIteration = 23\n",
      "\n",
      "Training on fold [4/5]\n",
      "\n",
      "bestTest = 1.040892732\n",
      "bestIteration = 28\n",
      "\n"
     ]
    }
   ],
   "source": [
    "params = {\n",
    "    'iterations' : 40,\n",
    "    'random_seed' : 63,\n",
    "    'learning_rate' : 0.5,\n",
    "    'custom_loss' : ['AUC', 'Accuracy'],\n",
    "    'loss_function' : 'MultiClass'\n",
    "    \n",
    "}\n",
    "\n",
    "cv_data = catboost.cv(\n",
    "    params=params,\n",
    "    pool = pool1,\n",
    "    fold_count=5,\n",
    "    shuffle=True,\n",
    "    partition_random_seed=0,\n",
    "    plot=True,\n",
    "    stratified=False,\n",
    "    verbose=False\n",
    ")"
   ]
  },
  {
   "cell_type": "code",
   "execution_count": 49,
   "id": "340b5850",
   "metadata": {
    "scrolled": true
   },
   "outputs": [
    {
     "data": {
      "text/plain": [
       "37"
      ]
     },
     "execution_count": 49,
     "metadata": {},
     "output_type": "execute_result"
    }
   ],
   "source": [
    "model.get_best_iteration()"
   ]
  },
  {
   "cell_type": "code",
   "execution_count": 76,
   "id": "2c4bc690",
   "metadata": {},
   "outputs": [
    {
     "name": "stdout",
     "output_type": "stream",
     "text": [
      "Best scores for test dataset: \n"
     ]
    },
    {
     "data": {
      "text/plain": [
       "{'Precision:class=3': 0.6615384615384615,\n",
       " 'Recall:class=3': 0.7129840546697038,\n",
       " 'Recall:class=0': 0.5322997416020672,\n",
       " 'Recall:class=2': 0.6855345911949685,\n",
       " 'Precision:class=1': 0.37817258883248733,\n",
       " 'Precision:class=2': 0.6565420560747663,\n",
       " 'Precision:class=0': 0.47685185185185186,\n",
       " 'Recall:class=1': 0.41208791208791207,\n",
       " 'AUC:type=Mu': 0.8283997133348651,\n",
       " 'MultiClass': 1.0360481742417542,\n",
       " 'Accuracy': 0.5500899820035993}"
      ]
     },
     "execution_count": 76,
     "metadata": {},
     "output_type": "execute_result"
    }
   ],
   "source": [
    "print('Best scores for test dataset: ')\n",
    "model.best_score_['validation']"
   ]
  },
  {
   "cell_type": "markdown",
   "id": "3c17e6f5",
   "metadata": {},
   "source": [
    "В предыдущей лабораторной для этого же датасета был использован классификатор kNN, он дал accuracy=0.50. Catboost совсем немного лучше."
   ]
  },
  {
   "cell_type": "code",
   "execution_count": 78,
   "id": "e3e6e158",
   "metadata": {
    "scrolled": true
   },
   "outputs": [
    {
     "data": {
      "text/html": [
       "<div>\n",
       "<style scoped>\n",
       "    .dataframe tbody tr th:only-of-type {\n",
       "        vertical-align: middle;\n",
       "    }\n",
       "\n",
       "    .dataframe tbody tr th {\n",
       "        vertical-align: top;\n",
       "    }\n",
       "\n",
       "    .dataframe thead th {\n",
       "        text-align: right;\n",
       "    }\n",
       "</style>\n",
       "<table border=\"1\" class=\"dataframe\">\n",
       "  <thead>\n",
       "    <tr style=\"text-align: right;\">\n",
       "      <th></th>\n",
       "      <th>Feature Id</th>\n",
       "      <th>Importances</th>\n",
       "    </tr>\n",
       "  </thead>\n",
       "  <tbody>\n",
       "    <tr>\n",
       "      <th>0</th>\n",
       "      <td>Profession</td>\n",
       "      <td>23.955584</td>\n",
       "    </tr>\n",
       "    <tr>\n",
       "      <th>1</th>\n",
       "      <td>Age</td>\n",
       "      <td>23.277247</td>\n",
       "    </tr>\n",
       "    <tr>\n",
       "      <th>2</th>\n",
       "      <td>Spending_Score</td>\n",
       "      <td>18.658215</td>\n",
       "    </tr>\n",
       "    <tr>\n",
       "      <th>3</th>\n",
       "      <td>Family_Size</td>\n",
       "      <td>12.356965</td>\n",
       "    </tr>\n",
       "    <tr>\n",
       "      <th>4</th>\n",
       "      <td>Graduated</td>\n",
       "      <td>8.702777</td>\n",
       "    </tr>\n",
       "    <tr>\n",
       "      <th>5</th>\n",
       "      <td>Var_1</td>\n",
       "      <td>4.363936</td>\n",
       "    </tr>\n",
       "    <tr>\n",
       "      <th>6</th>\n",
       "      <td>Gender</td>\n",
       "      <td>3.500681</td>\n",
       "    </tr>\n",
       "    <tr>\n",
       "      <th>7</th>\n",
       "      <td>Work_Experience</td>\n",
       "      <td>2.888965</td>\n",
       "    </tr>\n",
       "    <tr>\n",
       "      <th>8</th>\n",
       "      <td>Ever_Married</td>\n",
       "      <td>2.295629</td>\n",
       "    </tr>\n",
       "  </tbody>\n",
       "</table>\n",
       "</div>"
      ],
      "text/plain": [
       "        Feature Id  Importances\n",
       "0       Profession    23.955584\n",
       "1              Age    23.277247\n",
       "2   Spending_Score    18.658215\n",
       "3      Family_Size    12.356965\n",
       "4        Graduated     8.702777\n",
       "5            Var_1     4.363936\n",
       "6           Gender     3.500681\n",
       "7  Work_Experience     2.888965\n",
       "8     Ever_Married     2.295629"
      ]
     },
     "execution_count": 78,
     "metadata": {},
     "output_type": "execute_result"
    }
   ],
   "source": [
    "model.get_feature_importance(prettified=True)"
   ]
  },
  {
   "cell_type": "markdown",
   "id": "05554f5a",
   "metadata": {},
   "source": [
    "## 2 Применить регрессию CatBoostRegressor к набору данных для регрессии. \n",
    "Вывести номер итерации и значения метрик (MAE и MSE) для наилучшей итерации. Обратите внимание, что в задаче восстановления регрессии целевая переменная имеет непрерывные значения."
   ]
  },
  {
   "cell_type": "code",
   "execution_count": 120,
   "id": "962e2319",
   "metadata": {},
   "outputs": [],
   "source": [
    "from sklearn.metrics import mean_squared_error, mean_absolute_error"
   ]
  },
  {
   "cell_type": "code",
   "execution_count": 139,
   "id": "abde5ea4",
   "metadata": {},
   "outputs": [
    {
     "name": "stdout",
     "output_type": "stream",
     "text": [
      "['A' 'B' 'C' 'D']\n",
      "[3 1 2 0]\n"
     ]
    }
   ],
   "source": [
    "from sklearn.preprocessing import LabelEncoder\n",
    "le = LabelEncoder()\n",
    "le.fit(data_df['Segmentation'])\n",
    "print(le.classes_)\n",
    "data_df['Segmentation'] = le.transform(data_df['Segmentation'])\n",
    "print(data_df['Segmentation'].unique())"
   ]
  },
  {
   "cell_type": "code",
   "execution_count": 145,
   "id": "0e4df581",
   "metadata": {},
   "outputs": [
    {
     "data": {
      "text/html": [
       "<div>\n",
       "<style scoped>\n",
       "    .dataframe tbody tr th:only-of-type {\n",
       "        vertical-align: middle;\n",
       "    }\n",
       "\n",
       "    .dataframe tbody tr th {\n",
       "        vertical-align: top;\n",
       "    }\n",
       "\n",
       "    .dataframe thead th {\n",
       "        text-align: right;\n",
       "    }\n",
       "</style>\n",
       "<table border=\"1\" class=\"dataframe\">\n",
       "  <thead>\n",
       "    <tr style=\"text-align: right;\">\n",
       "      <th></th>\n",
       "      <th>Gender</th>\n",
       "      <th>Ever_Married</th>\n",
       "      <th>Age</th>\n",
       "      <th>Graduated</th>\n",
       "      <th>Profession</th>\n",
       "      <th>Work_Experience</th>\n",
       "      <th>Spending_Score</th>\n",
       "      <th>Family_Size</th>\n",
       "      <th>Var_1</th>\n",
       "      <th>Segmentation</th>\n",
       "    </tr>\n",
       "  </thead>\n",
       "  <tbody>\n",
       "    <tr>\n",
       "      <th>0</th>\n",
       "      <td>Male</td>\n",
       "      <td>No</td>\n",
       "      <td>22</td>\n",
       "      <td>No</td>\n",
       "      <td>Healthcare</td>\n",
       "      <td>1.0</td>\n",
       "      <td>Low</td>\n",
       "      <td>4.0</td>\n",
       "      <td>Cat_4</td>\n",
       "      <td>3</td>\n",
       "    </tr>\n",
       "    <tr>\n",
       "      <th>2</th>\n",
       "      <td>Female</td>\n",
       "      <td>Yes</td>\n",
       "      <td>67</td>\n",
       "      <td>Yes</td>\n",
       "      <td>Engineer</td>\n",
       "      <td>1.0</td>\n",
       "      <td>Low</td>\n",
       "      <td>1.0</td>\n",
       "      <td>Cat_6</td>\n",
       "      <td>1</td>\n",
       "    </tr>\n",
       "  </tbody>\n",
       "</table>\n",
       "</div>"
      ],
      "text/plain": [
       "   Gender Ever_Married  Age Graduated  Profession  Work_Experience  \\\n",
       "0    Male           No   22        No  Healthcare              1.0   \n",
       "2  Female          Yes   67       Yes    Engineer              1.0   \n",
       "\n",
       "  Spending_Score  Family_Size  Var_1  Segmentation  \n",
       "0            Low          4.0  Cat_4             3  \n",
       "2            Low          1.0  Cat_6             1  "
      ]
     },
     "execution_count": 145,
     "metadata": {},
     "output_type": "execute_result"
    }
   ],
   "source": [
    "data_df[:2]"
   ]
  },
  {
   "cell_type": "code",
   "execution_count": 147,
   "id": "63de878a",
   "metadata": {},
   "outputs": [],
   "source": [
    "# Make it binary by leaving only two classes with the most samples amount\n",
    "data_df = data_df.drop(data_df[data_df['Segmentation'] == 0].index)\n",
    "data_df = data_df.drop(data_df[data_df['Segmentation'] == 1].index)"
   ]
  },
  {
   "cell_type": "code",
   "execution_count": 151,
   "id": "45a7d8e5",
   "metadata": {},
   "outputs": [
    {
     "name": "stdout",
     "output_type": "stream",
     "text": [
      "3    1757\n",
      "2    1720\n",
      "Name: Segmentation, dtype: int64\n"
     ]
    }
   ],
   "source": [
    "print(data_df['Segmentation'].value_counts())"
   ]
  },
  {
   "cell_type": "code",
   "execution_count": 153,
   "id": "56a3d4ab",
   "metadata": {},
   "outputs": [],
   "source": [
    "# Split Targets and Features\n",
    "y = data_df['Segmentation']\n",
    "X = data_df.drop(['Segmentation'], axis=1)"
   ]
  },
  {
   "cell_type": "code",
   "execution_count": 154,
   "id": "3d8abcd6",
   "metadata": {},
   "outputs": [],
   "source": [
    "X_train, X_test, y_train, y_test = train_test_split(\n",
    "    X, y, test_size=0.25, random_state=0)"
   ]
  },
  {
   "cell_type": "code",
   "execution_count": 156,
   "id": "7549a807",
   "metadata": {},
   "outputs": [
    {
     "data": {
      "application/vnd.jupyter.widget-view+json": {
       "model_id": "72f08dc523b843208e10963cd3a1093e",
       "version_major": 2,
       "version_minor": 0
      },
      "text/plain": [
       "MetricVisualizer(layout=Layout(align_self='stretch', height='500px'))"
      ]
     },
     "metadata": {},
     "output_type": "display_data"
    },
    {
     "name": "stdout",
     "output_type": "stream",
     "text": [
      "Model is fitted:  True\n",
      "Best iteration:  21\n"
     ]
    }
   ],
   "source": [
    "model = catboost.CatBoostRegressor(\n",
    "    iterations=50,\n",
    "    learning_rate=0.5,\n",
    "    loss_function='RMSE',\n",
    "    early_stopping_rounds=5\n",
    ")\n",
    "\n",
    "model.fit(X_train, y_train,\n",
    "          cat_features=cat_features,\n",
    "          eval_set=(X_test, y_test),\n",
    "          verbose=False,\n",
    "          plot=True\n",
    ")\n",
    "\n",
    "print('Model is fitted: ', model.is_fitted())\n",
    "print('Best iteration: ', model.get_best_iteration())"
   ]
  },
  {
   "cell_type": "code",
   "execution_count": 158,
   "id": "fd226e24",
   "metadata": {},
   "outputs": [
    {
     "name": "stdout",
     "output_type": "stream",
     "text": [
      "Best scores for test dataset: \n",
      " {'RMSE': 0.32411851946352915}\n",
      "MSE:  0.10505281465923001\n"
     ]
    }
   ],
   "source": [
    "print('Best scores for test dataset: \\n', model.best_score_['validation'])\n",
    "print('MSE: ', mean_squared_error(y_test, model.predict(data=X_test)))"
   ]
  },
  {
   "cell_type": "code",
   "execution_count": 162,
   "id": "d51f0b93",
   "metadata": {},
   "outputs": [
    {
     "data": {
      "application/vnd.jupyter.widget-view+json": {
       "model_id": "2d84de839fea45a3baf3f15fef3d1ae8",
       "version_major": 2,
       "version_minor": 0
      },
      "text/plain": [
       "MetricVisualizer(layout=Layout(align_self='stretch', height='500px'))"
      ]
     },
     "metadata": {},
     "output_type": "display_data"
    },
    {
     "name": "stdout",
     "output_type": "stream",
     "text": [
      "Model is fitted:  True\n",
      "Best iteration:  8\n"
     ]
    }
   ],
   "source": [
    "model = catboost.CatBoostRegressor(\n",
    "    iterations=50,\n",
    "    learning_rate=0.5,\n",
    "    loss_function='MAE',\n",
    "    early_stopping_rounds=5\n",
    ")\n",
    "\n",
    "model.fit(X_train, y_train,\n",
    "          cat_features=cat_features,\n",
    "          eval_set=(X_test, y_test),\n",
    "          verbose=False,\n",
    "          plot=True\n",
    ")\n",
    "\n",
    "print('Model is fitted: ', model.is_fitted())\n",
    "print('Best iteration: ', model.get_best_iteration())"
   ]
  },
  {
   "cell_type": "code",
   "execution_count": 165,
   "id": "170d0202",
   "metadata": {},
   "outputs": [
    {
     "name": "stdout",
     "output_type": "stream",
     "text": [
      "Best scores for test dataset: \n",
      " {'MAE': 0.17992047072548384}\n",
      "MAE:  0.17992142773461559\n"
     ]
    }
   ],
   "source": [
    "print('Best scores for test dataset: \\n', model.best_score_['validation'])\n",
    "print('MAE: ', mean_absolute_error(y_test, model.predict(data=X_test)))"
   ]
  }
 ],
 "metadata": {
  "kernelspec": {
   "display_name": "Python 3 (ipykernel)",
   "language": "python",
   "name": "python3"
  },
  "language_info": {
   "codemirror_mode": {
    "name": "ipython",
    "version": 3
   },
   "file_extension": ".py",
   "mimetype": "text/x-python",
   "name": "python",
   "nbconvert_exporter": "python",
   "pygments_lexer": "ipython3",
   "version": "3.8.10"
  }
 },
 "nbformat": 4,
 "nbformat_minor": 5
}
